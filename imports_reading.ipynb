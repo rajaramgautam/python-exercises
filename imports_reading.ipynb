{
 "cells": [
  {
   "cell_type": "markdown",
   "id": "c7ad451c",
   "metadata": {},
   "source": [
    "# Example 1: Importing a module from the python standard library"
   ]
  },
  {
   "cell_type": "code",
   "execution_count": 1,
   "id": "0409392b",
   "metadata": {},
   "outputs": [
    {
     "data": {
      "text/plain": [
       "2.0"
      ]
     },
     "execution_count": 1,
     "metadata": {},
     "output_type": "execute_result"
    }
   ],
   "source": [
    "import math\n",
    "\n",
    "x = 4\n",
    "math.sqrt(x)"
   ]
  },
  {
   "cell_type": "code",
   "execution_count": 2,
   "id": "21797465",
   "metadata": {},
   "outputs": [
    {
     "data": {
      "text/plain": [
       "4.0"
      ]
     },
     "execution_count": 2,
     "metadata": {},
     "output_type": "execute_result"
    }
   ],
   "source": [
    "# module as an alias\n",
    "\n",
    "import math as m\n",
    "\n",
    "x = 16\n",
    "m.sqrt(x)"
   ]
  },
  {
   "cell_type": "code",
   "execution_count": 4,
   "id": "719242f3",
   "metadata": {},
   "outputs": [
    {
     "data": {
      "text/plain": [
       "5"
      ]
     },
     "execution_count": 4,
     "metadata": {},
     "output_type": "execute_result"
    }
   ],
   "source": [
    "x = 4.3\n",
    "m.ceil(4.3) # return the ceiling of x, i.e. round UP!"
   ]
  },
  {
   "cell_type": "code",
   "execution_count": 5,
   "id": "86289023",
   "metadata": {},
   "outputs": [
    {
     "data": {
      "text/plain": [
       "2.0"
      ]
     },
     "execution_count": 5,
     "metadata": {},
     "output_type": "execute_result"
    }
   ],
   "source": [
    "from math import sqrt\n",
    "\n",
    "sqrt(4)"
   ]
  },
  {
   "cell_type": "markdown",
   "id": "cb5216ed",
   "metadata": {},
   "source": [
    "# To be asked with instructor"
   ]
  },
  {
   "cell_type": "code",
   "execution_count": 6,
   "id": "6b2ebbf6",
   "metadata": {},
   "outputs": [
    {
     "name": "stdout",
     "output_type": "stream",
     "text": [
      "The square root of 2 is ≅ 1.414\n",
      "pi squared is about 9.86\n"
     ]
    }
   ],
   "source": [
    "\n",
    "\n",
    "from math import sqrt, pow\n",
    "\n",
    "print('The square root of 2 is ≅ %.3f' % sqrt(2))\n",
    "print('pi squared is about %.2f' % pow(3.14, 2))"
   ]
  },
  {
   "cell_type": "markdown",
   "id": "67addf5b",
   "metadata": {},
   "source": [
    "# Example 2: A Third Party Library"
   ]
  },
  {
   "cell_type": "code",
   "execution_count": 7,
   "id": "54ea551d",
   "metadata": {},
   "outputs": [
    {
     "data": {
      "text/plain": [
       "0       a\n",
       "1       1\n",
       "2    True\n",
       "dtype: object"
      ]
     },
     "execution_count": 7,
     "metadata": {},
     "output_type": "execute_result"
    }
   ],
   "source": [
    "import pandas as pd\n",
    "\n",
    "pd.Series([\"a\", 1, True])"
   ]
  },
  {
   "cell_type": "markdown",
   "id": "b3c04fda",
   "metadata": {},
   "source": [
    "# Example 3: A local file that contains imports"
   ]
  },
  {
   "cell_type": "code",
   "execution_count": 8,
   "id": "cdcb7d0c",
   "metadata": {},
   "outputs": [],
   "source": [
    "import math\n",
    "\n",
    "def rounded_sqrt(x):\n",
    "    return math.ceil(math.sqrt(x))"
   ]
  },
  {
   "cell_type": "code",
   "execution_count": 9,
   "id": "c2a06784",
   "metadata": {},
   "outputs": [
    {
     "data": {
      "text/plain": [
       "4"
      ]
     },
     "execution_count": 9,
     "metadata": {},
     "output_type": "execute_result"
    }
   ],
   "source": [
    "rounded_sqrt(10)"
   ]
  },
  {
   "cell_type": "code",
   "execution_count": null,
   "id": "63f1699a",
   "metadata": {},
   "outputs": [],
   "source": []
  }
 ],
 "metadata": {
  "kernelspec": {
   "display_name": "Python 3",
   "language": "python",
   "name": "python3"
  },
  "language_info": {
   "codemirror_mode": {
    "name": "ipython",
    "version": 3
   },
   "file_extension": ".py",
   "mimetype": "text/x-python",
   "name": "python",
   "nbconvert_exporter": "python",
   "pygments_lexer": "ipython3",
   "version": "3.8.8"
  }
 },
 "nbformat": 4,
 "nbformat_minor": 5
}
