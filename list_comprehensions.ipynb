{
 "cells": [
  {
   "cell_type": "markdown",
   "id": "ac4e1562",
   "metadata": {},
   "source": [
    "# 17 list comprehension problems in python"
   ]
  },
  {
   "cell_type": "code",
   "execution_count": 22,
   "id": "9537b19b",
   "metadata": {},
   "outputs": [],
   "source": [
    "fruits = ['mango', 'kiwi', 'strawberry',\n",
    "          'guava', 'pineapple', 'mandarin orange']\n",
    "\n",
    "numbers = [2, 3, 4, 5, 6, 7, 8, 9, 10, 11,\n",
    "           13, 17, 19, 23, 256, -8, -4, -2, 5, -9]"
   ]
  },
  {
   "cell_type": "markdown",
   "id": "98402c7f",
   "metadata": {},
   "source": [
    "# Example for loop solution to add 1 to each number in the list"
   ]
  },
  {
   "cell_type": "code",
   "execution_count": 19,
   "id": "1a6d3ac6",
   "metadata": {},
   "outputs": [
    {
     "name": "stdout",
     "output_type": "stream",
     "text": [
      "[3, 4, 5, 6, 7, 8, 9, 10, 11, 12, 14, 18, 20, 24, 257, -7, -3, -1, 6, -8]\n"
     ]
    }
   ],
   "source": [
    "numbers = [2, 3, 4, 5, 6, 7, 8, 9, 10, 11,\n",
    "           13, 17, 19, 23, 256, -8, -4, -2, 5, -9]\n",
    "numbers_plus_one = []\n",
    "for number in numbers:\n",
    "    numbers_plus_one.append(number+1)\n",
    "\n",
    "print(numbers_plus_one)"
   ]
  },
  {
   "cell_type": "markdown",
   "id": "d9d3abfb",
   "metadata": {},
   "source": [
    "# Example of using a list comprehension to create a list of the numbers plus one."
   ]
  },
  {
   "cell_type": "code",
   "execution_count": 3,
   "id": "2da9636c",
   "metadata": {},
   "outputs": [
    {
     "name": "stdout",
     "output_type": "stream",
     "text": [
      "[3, 4, 5, 6, 7, 8, 9, 10, 11, 12, 14, 18, 20, 24, 257, -7, -3, -1, 6, -8]\n"
     ]
    }
   ],
   "source": [
    "numbers = [2, 3, 4, 5, 6, 7, 8, 9, 10, 11,\n",
    "           13, 17, 19, 23, 256, -8, -4, -2, 5, -9]\n",
    "numbers_plus_one = [number + 1 for number in numbers]\n",
    "\n",
    "print(numbers_plus_one)"
   ]
  },
  {
   "cell_type": "markdown",
   "id": "49c75cff",
   "metadata": {},
   "source": [
    "# Example code that creates a list of all of the list of strings in fruits and uppercases every string"
   ]
  },
  {
   "cell_type": "code",
   "execution_count": 4,
   "id": "720eb47d",
   "metadata": {},
   "outputs": [
    {
     "name": "stdout",
     "output_type": "stream",
     "text": [
      "['MANGO', 'KIWI', 'STRAWBERRY', 'GUAVA', 'PINEAPPLE', 'MANDARIN ORANGE']\n"
     ]
    }
   ],
   "source": [
    "fruits = ['mango', 'kiwi', 'strawberry',\n",
    "          'guava', 'pineapple', 'mandarin orange']\n",
    "output = []\n",
    "for fruit in fruits:\n",
    "    output.append(fruit.upper())\n",
    "print(output)"
   ]
  },
  {
   "cell_type": "markdown",
   "id": "40545c78",
   "metadata": {},
   "source": [
    "# Exercise 1 - rewrite the above example code using list comprehension syntax. Make a variable named uppercased_fruits to hold the output of the list comprehension. Output should be ['MANGO', 'KIWI', etc...]\n",
    "\n",
    "\n"
   ]
  },
  {
   "cell_type": "code",
   "execution_count": 43,
   "id": "979c16f5",
   "metadata": {},
   "outputs": [
    {
     "data": {
      "text/plain": [
       "['MANGO', 'KIWI', 'STRAWBERRY', 'GUAVA', 'PINEAPPLE', 'MANDARIN ORANGE']"
      ]
     },
     "execution_count": 43,
     "metadata": {},
     "output_type": "execute_result"
    }
   ],
   "source": [
    "fruits = ['mango', 'kiwi', 'strawberry',\n",
    "          'guava', 'pineapple', 'mandarin orange']\n",
    "uppercased_fruits = []\n",
    "for item in fruits:\n",
    "    uppercased_fruits.append(item.upper())\n",
    "uppercased_fruits"
   ]
  },
  {
   "cell_type": "markdown",
   "id": "46d1de38",
   "metadata": {},
   "source": [
    "# Exercise 2 - create a variable named capitalized_fruits and use list comprehension syntax to produce output like ['Mango', 'Kiwi', 'Strawberry', etc...]"
   ]
  },
  {
   "cell_type": "code",
   "execution_count": 44,
   "id": "18775b20",
   "metadata": {},
   "outputs": [
    {
     "data": {
      "text/plain": [
       "['Mango', 'Kiwi', 'Strawberry', 'Guava', 'Pineapple', 'Mandarin orange']"
      ]
     },
     "execution_count": 44,
     "metadata": {},
     "output_type": "execute_result"
    }
   ],
   "source": [
    "fruits = ['mango', 'kiwi', 'strawberry',\n",
    "          'guava', 'pineapple', 'mandarin orange']\n",
    "capitalized_fruits = []\n",
    "for item in fruits:\n",
    "    capitalized_fruits.append(item.capitalize())\n",
    "capitalized_fruits\n"
   ]
  },
  {
   "cell_type": "markdown",
   "id": "d789a241",
   "metadata": {},
   "source": [
    "# Exercise 3 - Use a list comprehension to make a variable named fruits_with_more_than_two_vowels. Hint: You'll need a way to check if something is a vowel."
   ]
  },
  {
   "cell_type": "code",
   "execution_count": 45,
   "id": "19a4f116",
   "metadata": {},
   "outputs": [
    {
     "data": {
      "text/plain": [
       "['guava', 'pineapple', 'mandarin orange']"
      ]
     },
     "execution_count": 45,
     "metadata": {},
     "output_type": "execute_result"
    }
   ],
   "source": [
    "\n",
    "fruits_with_more_than_two_vowels = []\n",
    "\n",
    "for fruit in fruits:\n",
    "    if len([letter for letter in fruit if letter.lower() in 'aeiou']) > 2:\n",
    "        fruits_with_more_than_two_vowels.append(fruit)\n",
    "        \n",
    "fruits_with_more_than_two_vowels\n",
    "        "
   ]
  },
  {
   "cell_type": "markdown",
   "id": "9cc2ae38",
   "metadata": {},
   "source": [
    "# Exercise 4 - make a variable named fruits_with_only_two_vowels. The result should be ['mango', 'kiwi', 'strawberry']"
   ]
  },
  {
   "cell_type": "code",
   "execution_count": 47,
   "id": "f361e7b0",
   "metadata": {},
   "outputs": [
    {
     "data": {
      "text/plain": [
       "['mango', 'kiwi', 'strawberry']"
      ]
     },
     "execution_count": 47,
     "metadata": {},
     "output_type": "execute_result"
    }
   ],
   "source": [
    "fruits_with_only_two_vowels = []\n",
    "\n",
    "for fruit in fruits:\n",
    "    if len([letter for letter in fruit if letter.lower() in 'aeiou']) == 2:\n",
    "        fruits_with_only_two_vowels.append(fruit)\n",
    "        \n",
    "fruits_with_only_two_vowels"
   ]
  },
  {
   "cell_type": "markdown",
   "id": "965f3ed3",
   "metadata": {},
   "source": [
    "# Exercise 5 - make a list that contains each fruit with more than 5 characters"
   ]
  },
  {
   "cell_type": "code",
   "execution_count": 8,
   "id": "ff20208c",
   "metadata": {},
   "outputs": [
    {
     "name": "stdout",
     "output_type": "stream",
     "text": [
      "['strawberry', 'pineapple', 'mandarin orange']\n"
     ]
    }
   ],
   "source": [
    "fruits = ['mango', 'kiwi', 'strawberry',\n",
    "          'guava', 'pineapple', 'mandarin orange']\n",
    "fruits_more_than_5_char = []\n",
    "for item in fruits:\n",
    "    if len(item) > 5:\n",
    "        fruits_more_than_5_char.append(item)\n",
    "\n",
    "print(fruits_more_than_5_char)"
   ]
  },
  {
   "cell_type": "markdown",
   "id": "8f0c18d7",
   "metadata": {},
   "source": [
    "# Exercise 6 - make a list that contains each fruit with exactly 5 characters"
   ]
  },
  {
   "cell_type": "code",
   "execution_count": 9,
   "id": "6a6707c7",
   "metadata": {},
   "outputs": [
    {
     "name": "stdout",
     "output_type": "stream",
     "text": [
      "['mango', 'guava']\n"
     ]
    }
   ],
   "source": [
    "fruits = ['mango', 'kiwi', 'strawberry',\n",
    "          'guava', 'pineapple', 'mandarin orange']\n",
    "fruits_equal_5_char = []\n",
    "for item in fruits:\n",
    "    if len(item) == 5:\n",
    "        fruits_equal_5_char.append(item)\n",
    "print(fruits_equal_5_char)"
   ]
  },
  {
   "cell_type": "markdown",
   "id": "9dc6a2e7",
   "metadata": {},
   "source": [
    "# Exercise 7 - Make a list that contains fruits that have less than 5 characters"
   ]
  },
  {
   "cell_type": "code",
   "execution_count": 10,
   "id": "9820e498",
   "metadata": {},
   "outputs": [
    {
     "name": "stdout",
     "output_type": "stream",
     "text": [
      "['kiwi']\n"
     ]
    }
   ],
   "source": [
    "fruits = ['mango', 'kiwi', 'strawberry',\n",
    "          'guava', 'pineapple', 'mandarin orange']\n",
    "fruits_less_than_5_char = []\n",
    "for item in fruits:\n",
    "    if len(item) < 5:\n",
    "        fruits_less_than_5_char.append(item)\n",
    "\n",
    "print(fruits_less_than_5_char)"
   ]
  },
  {
   "cell_type": "markdown",
   "id": "ca0ed79d",
   "metadata": {},
   "source": [
    "# Exercise 8 - Make a list containing the number of characters in each fruit. Output would be [5, 4, 10, etc... ]"
   ]
  },
  {
   "cell_type": "code",
   "execution_count": 11,
   "id": "f29b5d22",
   "metadata": {},
   "outputs": [
    {
     "name": "stdout",
     "output_type": "stream",
     "text": [
      "[5, 4, 10, 5, 9, 15]\n"
     ]
    }
   ],
   "source": [
    "fruits = ['mango', 'kiwi', 'strawberry',\n",
    "          'guava', 'pineapple', 'mandarin orange']\n",
    "number_characters_fruits = []\n",
    "for item in fruits:\n",
    "    number_characters_fruits.append(len(item))\n",
    "print(number_characters_fruits)"
   ]
  },
  {
   "cell_type": "markdown",
   "id": "35e51a46",
   "metadata": {},
   "source": [
    "# Exercise 9 - Make a variable named fruits_with_letter_a that contains a list of only the fruits that contain the letter \"a\""
   ]
  },
  {
   "cell_type": "code",
   "execution_count": 12,
   "id": "706d0111",
   "metadata": {},
   "outputs": [
    {
     "name": "stdout",
     "output_type": "stream",
     "text": [
      "['mango', 'strawberry', 'guava', 'pineapple', 'mandarin orange']\n"
     ]
    }
   ],
   "source": [
    "fruits = ['mango', 'kiwi', 'strawberry',\n",
    "          'guava', 'pineapple', 'mandarin orange']\n",
    "fruits_with_letter_a = []\n",
    "for item in fruits:\n",
    "    if 'a' in item:\n",
    "        fruits_with_letter_a.append(item)\n",
    "print(fruits_with_letter_a)"
   ]
  },
  {
   "cell_type": "markdown",
   "id": "d1d4c6ab",
   "metadata": {},
   "source": [
    "# Exercise 10 - Make a variable named even_numbers that holds only the even numbers"
   ]
  },
  {
   "cell_type": "code",
   "execution_count": 42,
   "id": "eed26adc",
   "metadata": {},
   "outputs": [
    {
     "data": {
      "text/plain": [
       "[2, 4, 6, 8, 10, 256, -8, -4, -2]"
      ]
     },
     "execution_count": 42,
     "metadata": {},
     "output_type": "execute_result"
    }
   ],
   "source": [
    "even_numbers = []\n",
    "for number in numbers:\n",
    "    if number%2 == 0:\n",
    "        even_numbers.append(number)\n",
    "even_numbers"
   ]
  },
  {
   "cell_type": "markdown",
   "id": "c0bbf3d8",
   "metadata": {},
   "source": [
    "# Exercise 11 - Make a variable named odd_numbers that holds only the odd numbers"
   ]
  },
  {
   "cell_type": "code",
   "execution_count": 15,
   "id": "21b3051c",
   "metadata": {},
   "outputs": [
    {
     "name": "stdout",
     "output_type": "stream",
     "text": [
      "[]\n"
     ]
    }
   ],
   "source": [
    "numList = []\n",
    "odd_numbers = []\n",
    "for number in numList:\n",
    "    if number/2 != 0:\n",
    "        odd_numbers.append(number)\n",
    "print(odd_numbers)"
   ]
  },
  {
   "cell_type": "markdown",
   "id": "8c52973c",
   "metadata": {},
   "source": [
    "# Exercise 12 - Make a variable named positive_numbers that holds only the positive numbers"
   ]
  },
  {
   "cell_type": "code",
   "execution_count": 40,
   "id": "07333e78",
   "metadata": {},
   "outputs": [
    {
     "data": {
      "text/plain": [
       "[2, 3, 4, 5, 6, 7, 8, 9, 10, 11, 13, 17, 19, 23, 256, 5]"
      ]
     },
     "execution_count": 40,
     "metadata": {},
     "output_type": "execute_result"
    }
   ],
   "source": [
    "positive_numbers = []\n",
    "for number in numbers:\n",
    "    if number > 0:\n",
    "        positive_numbers.append(number)\n",
    "positive_numbers"
   ]
  },
  {
   "cell_type": "markdown",
   "id": "d943e8f7",
   "metadata": {},
   "source": [
    "# Exercise 13 - Make a variable named negative_numbers that holds only the negative numbers"
   ]
  },
  {
   "cell_type": "code",
   "execution_count": 36,
   "id": "4b07df2e",
   "metadata": {},
   "outputs": [
    {
     "data": {
      "text/plain": [
       "[-8, -4, -2, -9]"
      ]
     },
     "execution_count": 36,
     "metadata": {},
     "output_type": "execute_result"
    }
   ],
   "source": [
    "\n",
    "negative_numbers = []\n",
    "for number in numbers:\n",
    "    if number < 0:\n",
    "        negative_numbers.append(number)\n",
    "negative_numbers\n"
   ]
  },
  {
   "cell_type": "markdown",
   "id": "561667e1",
   "metadata": {},
   "source": [
    "# Exercise 14 - use a list comprehension w/ a conditional in order to produce a list of numbers with 2 or more numerals"
   ]
  },
  {
   "cell_type": "code",
   "execution_count": 39,
   "id": "187a599b",
   "metadata": {},
   "outputs": [
    {
     "data": {
      "text/plain": [
       "[10, 11, 13, 17, 19, 23, 256]"
      ]
     },
     "execution_count": 39,
     "metadata": {},
     "output_type": "execute_result"
    }
   ],
   "source": [
    "two_numeraled_numbers = []\n",
    "for number in numbers:\n",
    "    if len(str(abs(number))) >= 2:\n",
    "        two_numeraled_numbers.append(number)\n",
    "        \n",
    "two_numeraled_numbers\n",
    "        "
   ]
  },
  {
   "cell_type": "markdown",
   "id": "0f3da732",
   "metadata": {},
   "source": [
    "# Exercise 15 - Make a variable named numbers_squared that contains the numbers list with each element squared. Output is [4, 9, 16, etc...]"
   ]
  },
  {
   "cell_type": "code",
   "execution_count": 33,
   "id": "b928efcd",
   "metadata": {},
   "outputs": [
    {
     "data": {
      "text/plain": [
       "[4,\n",
       " 9,\n",
       " 16,\n",
       " 25,\n",
       " 36,\n",
       " 49,\n",
       " 64,\n",
       " 81,\n",
       " 100,\n",
       " 121,\n",
       " 169,\n",
       " 289,\n",
       " 361,\n",
       " 529,\n",
       " 65536,\n",
       " 64,\n",
       " 16,\n",
       " 4,\n",
       " 25,\n",
       " 81]"
      ]
     },
     "execution_count": 33,
     "metadata": {},
     "output_type": "execute_result"
    }
   ],
   "source": [
    "numbers_squared = [(number)**2 for number in numbers ]\n",
    "numbers_squared"
   ]
  },
  {
   "cell_type": "markdown",
   "id": "a2faf3bc",
   "metadata": {},
   "source": [
    "# Exercise 16 - Make a variable named odd_negative_numbers that contains only the numbers that are both odd and negative."
   ]
  },
  {
   "cell_type": "code",
   "execution_count": 26,
   "id": "16904eee",
   "metadata": {},
   "outputs": [
    {
     "data": {
      "text/plain": [
       "[-9]"
      ]
     },
     "execution_count": 26,
     "metadata": {},
     "output_type": "execute_result"
    }
   ],
   "source": [
    "odd_negative_numbers = [number for number in numbers if (number%2 != 0) and (number < 0)]\n",
    "odd_negative_numbers"
   ]
  },
  {
   "cell_type": "markdown",
   "id": "acfe2fbc",
   "metadata": {},
   "source": [
    "# Exercise 17 - Make a variable named numbers_plus_5. In it, return a list containing each number plus five."
   ]
  },
  {
   "cell_type": "code",
   "execution_count": 25,
   "id": "503e84e8",
   "metadata": {},
   "outputs": [
    {
     "data": {
      "text/plain": [
       "[3, 4, 5, 6, 7, 8, 9, 10, 11, 12, 14, 18, 20, 24, 257, -7, -3, -1, 6, -8]"
      ]
     },
     "execution_count": 25,
     "metadata": {},
     "output_type": "execute_result"
    }
   ],
   "source": [
    "numbers = [2, 3, 4, 5, 6, 7, 8, 9, 10, 11,\n",
    "           13, 17, 19, 23, 256, -8, -4, -2, 5, -9]\n",
    "numbers_plus_5 = [number+5 for number in numbers ]\n",
    "\n",
    "numbers_plus_one"
   ]
  },
  {
   "cell_type": "code",
   "execution_count": null,
   "id": "7ad0a65f",
   "metadata": {},
   "outputs": [],
   "source": []
  }
 ],
 "metadata": {
  "kernelspec": {
   "display_name": "Python 3",
   "language": "python",
   "name": "python3"
  },
  "language_info": {
   "codemirror_mode": {
    "name": "ipython",
    "version": 3
   },
   "file_extension": ".py",
   "mimetype": "text/x-python",
   "name": "python",
   "nbconvert_exporter": "python",
   "pygments_lexer": "ipython3",
   "version": "3.8.8"
  }
 },
 "nbformat": 4,
 "nbformat_minor": 5
}
