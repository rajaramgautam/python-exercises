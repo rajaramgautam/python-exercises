{
 "cells": [
  {
   "cell_type": "code",
   "execution_count": 1,
   "id": "75cec7e2",
   "metadata": {},
   "outputs": [
    {
     "ename": "SyntaxError",
     "evalue": "invalid syntax (<ipython-input-1-c6fdcd519fe3>, line 1)",
     "output_type": "error",
     "traceback": [
      "\u001b[0;36m  File \u001b[0;32m\"<ipython-input-1-c6fdcd519fe3>\"\u001b[0;36m, line \u001b[0;32m1\u001b[0m\n\u001b[0;31m    Create a function named twelveto24. It should accept a string in the format 10:45am or 4:30pm and return a string that is the representation of the time in a 24-hour format. Bonus write a function that does the opposite.\u001b[0m\n\u001b[0m           ^\u001b[0m\n\u001b[0;31mSyntaxError\u001b[0m\u001b[0;31m:\u001b[0m invalid syntax\n"
     ]
    }
   ],
   "source": [
    "# Bonus\n",
    "Create a function named col_index. It should accept a spreadsheet column name, and return the index number of the column.\n",
    "col_index('A') returns 1\n",
    "col_index('B') returns 2\n",
    "col_index('AA') returns 27"
   ]
  },
  {
   "cell_type": "markdown",
   "id": "8a9a1d93",
   "metadata": {},
   "source": [
    "# 1. Create a function named twelveto24. It should accept a string in the format 10:45am or 4:30pm and return a string that is the representation of the time in a 24-hour format. Bonus write a function that does the opposite."
   ]
  },
  {
   "cell_type": "code",
   "execution_count": 151,
   "id": "70f0afcd",
   "metadata": {},
   "outputs": [],
   "source": [
    "def twelveto24(s):\n",
    "    if s[-2]== 'a':\n",
    "        message8 = s.replace(':', '')\n",
    "        message9 = message8.replace('am', '')\n",
    "        message10 = int(message9)\n",
    "        if message10 >= 1300:\n",
    "            print('Invalid Input')\n",
    "            \n",
    "    elif s[-2]== 'p':\n",
    "        message11 = s.replace(':', '')\n",
    "        message12 = message11.replace('pm', '')\n",
    "        message13 = int(message12)\n",
    "        if message13 >= 1300:\n",
    "            print('Invalid Input')      \n",
    "    \n",
    "    elif s[-2]== 'a':\n",
    "        message = s.replace(':', '')\n",
    "        message1 = message.replace('am', ' hours')\n",
    "        return message1    \n",
    "       \n",
    "    elif s[-2]== 'p':\n",
    "        message2 = s.replace(':', '')\n",
    "        message3 = message2.replace('pm', '')\n",
    "        message4 = int(message3)\n",
    "        message5 = message4 + 1200\n",
    "        message6 = str(message5)\n",
    "        message7 = message6 + (' hours')\n",
    "        return message7\n",
    "   \n",
    "    else:\n",
    "        print('Invalid Format')\n",
    "        "
   ]
  },
  {
   "cell_type": "code",
   "execution_count": 152,
   "id": "3eea01da",
   "metadata": {},
   "outputs": [
    {
     "name": "stdout",
     "output_type": "stream",
     "text": [
      "Invalid Input\n"
     ]
    }
   ],
   "source": [
    "twelveto24('25:00pm')"
   ]
  },
  {
   "cell_type": "code",
   "execution_count": null,
   "id": "7f7162d7",
   "metadata": {},
   "outputs": [],
   "source": []
  },
  {
   "cell_type": "code",
   "execution_count": 85,
   "id": "2d1c92f6",
   "metadata": {},
   "outputs": [],
   "source": [
    "def twentyfourto12(p):\n",
    "    message0 = p.lower()\n",
    "    message1 = message0.replace('hours', '')\n",
    "    message2 = int(message1)\n",
    "    if message2 > 2400:\n",
    "        message = 'Invalid Input'\n",
    "        return message\n",
    "    elif message2 == 2400:\n",
    "        message11 ='12:00 am' \n",
    "        return message11\n",
    "    elif message2 == 1200:\n",
    "        message10 ='12:00 pm' \n",
    "        return message10\n",
    "    elif message2 < 1200:\n",
    "        message3 = str(message2)\n",
    "        message4 = message3[:1] + ':' + message3[1:]\n",
    "        message5 = message4 + ' am'\n",
    "        return message5\n",
    "    elif message2 > 1200:\n",
    "        message6 = message2 - 1200\n",
    "        message7 = str(message6)\n",
    "        message8 = message7[:2] + ':' + message7[2:]\n",
    "        message9 = message8 + ' pm'\n",
    "        return message9\n",
    "    \n",
    "    \n",
    "    \n",
    "    "
   ]
  },
  {
   "cell_type": "code",
   "execution_count": 86,
   "id": "be428551",
   "metadata": {},
   "outputs": [
    {
     "data": {
      "text/plain": [
       "'11:00 pm'"
      ]
     },
     "execution_count": 86,
     "metadata": {},
     "output_type": "execute_result"
    }
   ],
   "source": [
    "twentyfourto12('2300 Hours')"
   ]
  },
  {
   "cell_type": "code",
   "execution_count": null,
   "id": "a7955a77",
   "metadata": {},
   "outputs": [],
   "source": []
  }
 ],
 "metadata": {
  "kernelspec": {
   "display_name": "Python 3",
   "language": "python",
   "name": "python3"
  },
  "language_info": {
   "codemirror_mode": {
    "name": "ipython",
    "version": 3
   },
   "file_extension": ".py",
   "mimetype": "text/x-python",
   "name": "python",
   "nbconvert_exporter": "python",
   "pygments_lexer": "ipython3",
   "version": "3.8.8"
  }
 },
 "nbformat": 4,
 "nbformat_minor": 5
}
