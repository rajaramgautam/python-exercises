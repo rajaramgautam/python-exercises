{
 "cells": [
  {
   "cell_type": "markdown",
   "id": "668f0616",
   "metadata": {},
   "source": [
    "# Exercises\n",
    "\n",
    "- Create a file named function_exercises.py for this exercise. After creating each function specified below, write the necessary code in order to test your function.\n"
   ]
  },
  {
   "cell_type": "markdown",
   "id": "5b6ce235",
   "metadata": {},
   "source": [
    "# 1. Define a function named is_two. It should accept one input and return True if the passed input is either the number or the string 2, False otherwise."
   ]
  },
  {
   "cell_type": "code",
   "execution_count": 9,
   "id": "6b4f7318",
   "metadata": {},
   "outputs": [],
   "source": [
    "def is_two(x):\n",
    "    if isinstance(x, str):\n",
    "        return True\n",
    "    elif isinstance(x, int):\n",
    "        return True\n",
    "    elif isinstance(x, float):\n",
    "        return True\n",
    "    \n",
    "    else:\n",
    "        return False"
   ]
  },
  {
   "cell_type": "code",
   "execution_count": 24,
   "id": "8db9d864",
   "metadata": {},
   "outputs": [
    {
     "data": {
      "text/plain": [
       "False"
      ]
     },
     "execution_count": 24,
     "metadata": {},
     "output_type": "execute_result"
    }
   ],
   "source": [
    "is_two(True)"
   ]
  },
  {
   "cell_type": "code",
   "execution_count": 17,
   "id": "fc5dddcb",
   "metadata": {},
   "outputs": [],
   "source": [
    "def is_two2(var):\n",
    "    if type(var) == str:\n",
    "        return True\n",
    "    elif type(var) == int:\n",
    "        return True\n",
    "    elif type(var) == float:\n",
    "        return True\n",
    "    \n",
    "    else:\n",
    "        return False"
   ]
  },
  {
   "cell_type": "code",
   "execution_count": 23,
   "id": "8d536c2b",
   "metadata": {},
   "outputs": [
    {
     "data": {
      "text/plain": [
       "False"
      ]
     },
     "execution_count": 23,
     "metadata": {},
     "output_type": "execute_result"
    }
   ],
   "source": [
    "is_two2([1, 2, 3, 4]) "
   ]
  },
  {
   "cell_type": "markdown",
   "id": "5ca0784c",
   "metadata": {},
   "source": [
    "# 2. Define a function named is_vowel. It should return True if the passed string is a vowel, False otherwise."
   ]
  },
  {
   "cell_type": "code",
   "execution_count": 25,
   "id": "76f8a80a",
   "metadata": {},
   "outputs": [],
   "source": [
    "def is_vowel(para):\n",
    "    if para in {'a', 'e', 'i', 'o', 'u', 'A', 'E', 'I', 'O', 'U' }:\n",
    "        return True\n",
    "    else:\n",
    "        return False\n",
    "    "
   ]
  },
  {
   "cell_type": "code",
   "execution_count": 31,
   "id": "1eca3b3e",
   "metadata": {},
   "outputs": [
    {
     "data": {
      "text/plain": [
       "False"
      ]
     },
     "execution_count": 31,
     "metadata": {},
     "output_type": "execute_result"
    }
   ],
   "source": [
    "is_vowel(\"B\")"
   ]
  },
  {
   "cell_type": "markdown",
   "id": "8de028e8",
   "metadata": {},
   "source": [
    "# 3. Define a function named is_consonant. It should return True if the passed string is a consonant, False otherwise. Use your is_vowel function to accomplish this."
   ]
  },
  {
   "cell_type": "code",
   "execution_count": 32,
   "id": "ba53db4f",
   "metadata": {},
   "outputs": [],
   "source": [
    "def is_consonant(para):\n",
    "    if is_vowel(para) == True:\n",
    "        return False\n",
    "    else:\n",
    "        return True\n",
    "    "
   ]
  },
  {
   "cell_type": "code",
   "execution_count": 35,
   "id": "0430a619",
   "metadata": {},
   "outputs": [
    {
     "data": {
      "text/plain": [
       "True"
      ]
     },
     "execution_count": 35,
     "metadata": {},
     "output_type": "execute_result"
    }
   ],
   "source": [
    "is_consonant('b')"
   ]
  },
  {
   "cell_type": "markdown",
   "id": "f4a33869",
   "metadata": {},
   "source": [
    "# 4. Define a function that accepts a string that is a word. The function should capitalize the first letter of the word if the word starts with a consonant."
   ]
  },
  {
   "cell_type": "code",
   "execution_count": 41,
   "id": "f63d90a6",
   "metadata": {},
   "outputs": [],
   "source": [
    "def string_word(s):\n",
    "    if is_consonant(s[0]) == True:\n",
    "        return s.capitalize()\n",
    "    "
   ]
  },
  {
   "cell_type": "code",
   "execution_count": 62,
   "id": "1f621c89",
   "metadata": {},
   "outputs": [
    {
     "data": {
      "text/plain": [
       "'Nepal'"
      ]
     },
     "execution_count": 62,
     "metadata": {},
     "output_type": "execute_result"
    }
   ],
   "source": [
    "string_word('nepal')"
   ]
  },
  {
   "cell_type": "markdown",
   "id": "52a74c70",
   "metadata": {},
   "source": [
    "# 5. Define a function named calculate_tip. It should accept a tip percentage (a number between 0 and 1) and the bill total, and return the amount to tip.\n"
   ]
  },
  {
   "cell_type": "code",
   "execution_count": 61,
   "id": "458b4caa",
   "metadata": {},
   "outputs": [],
   "source": [
    "def calculate_tip(tip_percentage, bill_total):\n",
    "    tip_amount = tip_percentage * bill_total\n",
    "    return tip_amount\n",
    "    "
   ]
  },
  {
   "cell_type": "code",
   "execution_count": 57,
   "id": "ae3fbcbb",
   "metadata": {},
   "outputs": [
    {
     "data": {
      "text/plain": [
       "20.0"
      ]
     },
     "execution_count": 57,
     "metadata": {},
     "output_type": "execute_result"
    }
   ],
   "source": [
    "calculate_tip(0.1, 200)"
   ]
  },
  {
   "cell_type": "markdown",
   "id": "35a3fe0d",
   "metadata": {},
   "source": [
    "# 6. Define a function named apply_discount. It should accept a original price, and a discount percentage, and return the price after the discount is applied."
   ]
  },
  {
   "cell_type": "code",
   "execution_count": 63,
   "id": "52a2329a",
   "metadata": {},
   "outputs": [],
   "source": [
    "def apply_discount(original_price, discount_percentage):\n",
    "    price_after_discount = original_price * (100-discount_percentage)/100\n",
    "    return price_after_discount"
   ]
  },
  {
   "cell_type": "code",
   "execution_count": 64,
   "id": "bf8d7798",
   "metadata": {},
   "outputs": [
    {
     "data": {
      "text/plain": [
       "160.0"
      ]
     },
     "execution_count": 64,
     "metadata": {},
     "output_type": "execute_result"
    }
   ],
   "source": [
    "apply_discount(200, 20)"
   ]
  },
  {
   "cell_type": "markdown",
   "id": "510f0cf8",
   "metadata": {},
   "source": [
    "# 7. Define a function named handle_commas. It should accept a string that is a number that contains commas in it as input, and return a number as output."
   ]
  },
  {
   "cell_type": "code",
   "execution_count": 65,
   "id": "c7802a65",
   "metadata": {},
   "outputs": [],
   "source": [
    "def handle_commas(p):\n",
    "    return p.replace(',', '')"
   ]
  },
  {
   "cell_type": "code",
   "execution_count": 67,
   "id": "b58005ec",
   "metadata": {},
   "outputs": [
    {
     "data": {
      "text/plain": [
       "'apple Orange and Grapes'"
      ]
     },
     "execution_count": 67,
     "metadata": {},
     "output_type": "execute_result"
    }
   ],
   "source": [
    "handle_commas('apple, Orange and Grapes')"
   ]
  },
  {
   "cell_type": "markdown",
   "id": "eaec5108",
   "metadata": {},
   "source": [
    "# 8. Define a function named get_letter_grade. It should accept a number and return the letter grade associated with that number (A-F)."
   ]
  },
  {
   "cell_type": "code",
   "execution_count": 110,
   "id": "3dfab248",
   "metadata": {},
   "outputs": [],
   "source": [
    "def get_letter_grade(number):\n",
    "    number = float(number)\n",
    "    if number >100:\n",
    "        return 'Invalid Input'\n",
    "    if number >= 90:\n",
    "        return 'A'\n",
    "    elif number >= 80:\n",
    "        return 'B'\n",
    "    elif number >= 70:\n",
    "        return 'C'\n",
    "    elif number >= 60:\n",
    "        return 'D'\n",
    "    elif number >= 50:\n",
    "        return 'E'\n",
    "    else:\n",
    "        return 'F'"
   ]
  },
  {
   "cell_type": "code",
   "execution_count": 112,
   "id": "1fd0f727",
   "metadata": {},
   "outputs": [
    {
     "data": {
      "text/plain": [
       "'A'"
      ]
     },
     "execution_count": 112,
     "metadata": {},
     "output_type": "execute_result"
    }
   ],
   "source": [
    "get_letter_grade(99.9)\n"
   ]
  },
  {
   "cell_type": "markdown",
   "id": "f8475834",
   "metadata": {},
   "source": [
    "# 9. Define a function named remove_vowels that accepts a string and returns a string with all the vowels removed."
   ]
  },
  {
   "cell_type": "code",
   "execution_count": 139,
   "id": "668980ae",
   "metadata": {},
   "outputs": [],
   "source": [
    "def remove_vowels(f):\n",
    "    newstr = f\n",
    "    vowels = ('a', 'e', 'i', 'o', 'u')\n",
    "    for x in f.lower():\n",
    "        if x in vowels:\n",
    "            newstr = newstr.replace(x, '')\n",
    "    return newstr"
   ]
  },
  {
   "cell_type": "code",
   "execution_count": 140,
   "id": "049b0306",
   "metadata": {},
   "outputs": [
    {
     "data": {
      "text/plain": [
       "'ppl'"
      ]
     },
     "execution_count": 140,
     "metadata": {},
     "output_type": "execute_result"
    }
   ],
   "source": [
    "remove_vowels('apple')"
   ]
  },
  {
   "cell_type": "markdown",
   "id": "61d4ac58",
   "metadata": {},
   "source": [
    "# 10. Define a function named normalize_name. It should accept a string and return a valid python identifier, that is:\n",
    "- anything that is not a valid python identifier should be removed\n",
    "- leading and trailing whitespace should be removed\n",
    "- everything should be lowercase\n",
    "- spaces should be replaced with underscores\n",
    "- for example:\n",
    "    - Name will become name\n",
    "    - First Name will become first_name\n",
    "    - % Completed will become completed"
   ]
  },
  {
   "cell_type": "code",
   "execution_count": 144,
   "id": "2a18ee75",
   "metadata": {},
   "outputs": [],
   "source": [
    "def normalize_name(r):\n",
    "    r = r.strip()\n",
    "    r = r.lower()\n",
    "    r = r.replace(' ', '_')\n",
    "    return r\n",
    "    "
   ]
  },
  {
   "cell_type": "code",
   "execution_count": 145,
   "id": "808c7172",
   "metadata": {},
   "outputs": [
    {
     "data": {
      "text/plain": [
       "'rajaram_gautam'"
      ]
     },
     "execution_count": 145,
     "metadata": {},
     "output_type": "execute_result"
    }
   ],
   "source": [
    "normalize_name(\"  Rajaram Gautam   \")"
   ]
  },
  {
   "cell_type": "markdown",
   "id": "e05cda90",
   "metadata": {},
   "source": [
    "# 11. Write a function named cumulative_sum that accepts a list of numbers and returns a list that is the cumulative sum of the numbers in the list.\n",
    "    - cumulative_sum([1, 1, 1]) returns [1, 2, 3]\n",
    "    - cumulative_sum([1, 2, 3, 4]) returns [1, 3, 6, 10]"
   ]
  },
  {
   "cell_type": "code",
   "execution_count": 148,
   "id": "64e5951c",
   "metadata": {},
   "outputs": [],
   "source": [
    "def cumulative_sum(lists):\n",
    "    cu_list = []\n",
    "    length = len(lists)\n",
    "    cu_list = [sum(lists[0:x:1]) for x in range(0, length+1)]\n",
    "    return cu_list[1:]\n",
    "    "
   ]
  },
  {
   "cell_type": "code",
   "execution_count": 150,
   "id": "f0db4a2c",
   "metadata": {},
   "outputs": [
    {
     "data": {
      "text/plain": [
       "[1, 3, 6]"
      ]
     },
     "execution_count": 150,
     "metadata": {},
     "output_type": "execute_result"
    }
   ],
   "source": [
    "cumulative_sum([1, 2, 3])"
   ]
  },
  {
   "cell_type": "code",
   "execution_count": null,
   "id": "ab0f59df",
   "metadata": {},
   "outputs": [],
   "source": []
  }
 ],
 "metadata": {
  "kernelspec": {
   "display_name": "Python 3",
   "language": "python",
   "name": "python3"
  },
  "language_info": {
   "codemirror_mode": {
    "name": "ipython",
    "version": 3
   },
   "file_extension": ".py",
   "mimetype": "text/x-python",
   "name": "python",
   "nbconvert_exporter": "python",
   "pygments_lexer": "ipython3",
   "version": "3.8.8"
  }
 },
 "nbformat": 4,
 "nbformat_minor": 5
}
